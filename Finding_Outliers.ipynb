{
  "nbformat": 4,
  "nbformat_minor": 0,
  "metadata": {
    "colab": {
      "provenance": [],
      "authorship_tag": "ABX9TyPwu5kSfV9NH1HaFbRZk7/q",
      "include_colab_link": true
    },
    "kernelspec": {
      "name": "python3",
      "display_name": "Python 3"
    },
    "language_info": {
      "name": "python"
    }
  },
  "cells": [
    {
      "cell_type": "markdown",
      "metadata": {
        "id": "view-in-github",
        "colab_type": "text"
      },
      "source": [
        "<a href=\"https://colab.research.google.com/github/Dhanashree2002/Statistics-for-DA/blob/main/Finding_Outliers.ipynb\" target=\"_parent\"><img src=\"https://colab.research.google.com/assets/colab-badge.svg\" alt=\"Open In Colab\"/></a>"
      ]
    },
    {
      "cell_type": "markdown",
      "source": [
        "**Here, we will see the basic example so we can understand the term outlier (basically we will perform some methods) it will help us to understand the data.**"
      ],
      "metadata": {
        "id": "EW6lFxxhDtud"
      }
    },
    {
      "cell_type": "code",
      "execution_count": null,
      "metadata": {
        "id": "hWanaCl-p3QT"
      },
      "outputs": [],
      "source": [
        "#Importing libraries\n",
        "import numpy as np\n",
        "import matplotlib.pyplot as plt\n",
        "%matplotlib inline"
      ]
    },
    {
      "cell_type": "code",
      "source": [
        "#Define Dataset\n",
        "dataset = [10,12,14,12,15,17,10,9,11,13,17,103,19,108,101,11,12,13,16,19,18,102,16,12,14,11,12,15,19,18,101]"
      ],
      "metadata": {
        "id": "NJOZDw12DtDF"
      },
      "execution_count": null,
      "outputs": []
    },
    {
      "cell_type": "code",
      "source": [
        "plt.hist(dataset)"
      ],
      "metadata": {
        "id": "Mj79qZ7QDs_o",
        "outputId": "36bedd5b-289e-4f9c-bc45-d98275c8baeb",
        "colab": {
          "base_uri": "https://localhost:8080/",
          "height": 499
        }
      },
      "execution_count": null,
      "outputs": [
        {
          "output_type": "execute_result",
          "data": {
            "text/plain": [
              "(array([19.,  2.,  0.,  0.,  0.,  0.,  0.,  0.,  0.,  4.]),\n",
              " array([  9. ,  18.9,  28.8,  38.7,  48.6,  58.5,  68.4,  78.3,  88.2,\n",
              "         98.1, 108. ]),\n",
              " <BarContainer object of 10 artists>)"
            ]
          },
          "metadata": {},
          "execution_count": 4
        },
        {
          "output_type": "display_data",
          "data": {
            "text/plain": [
              "<Figure size 640x480 with 1 Axes>"
            ],
            "image/png": "[encoded data removed]"
          },
          "metadata": {}
        }
      ]
    },
    {
      "cell_type": "code",
      "source": [
        "#Now we will use z-score method"
      ],
      "metadata": {
        "id": "U-dWhYVWDs9q"
      },
      "execution_count": null,
      "outputs": []
    },
    {
      "cell_type": "code",
      "source": [],
      "metadata": {
        "id": "IYPNqWnMDs7f"
      },
      "execution_count": null,
      "outputs": []
    },
    {
      "cell_type": "code",
      "source": [],
      "metadata": {
        "id": "X9jGcfAbDs5H"
      },
      "execution_count": null,
      "outputs": []
    },
    {
      "cell_type": "code",
      "source": [],
      "metadata": {
        "id": "xvtU6ejtDs2t"
      },
      "execution_count": null,
      "outputs": []
    }
  ]
}